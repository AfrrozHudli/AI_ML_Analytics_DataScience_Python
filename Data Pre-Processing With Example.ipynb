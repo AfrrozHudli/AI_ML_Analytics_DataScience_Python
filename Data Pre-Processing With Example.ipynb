{
 "cells": [
  {
   "cell_type": "markdown",
   "metadata": {},
   "source": [
    "# Data Pre-Processing with Example"
   ]
  },
  {
   "cell_type": "markdown",
   "metadata": {},
   "source": [
    "This was an assignment i had done for my Masters in AI back in 2005.\n",
    "\n",
    "As you will see from the Professors comments the pre-processing done in this assignment has lead to excellent results.\n",
    "\n",
    "Pre-processing your data is where the gold nuggets are hidden. \n",
    "\n",
    "Leverage the report \"ReportBostonData.pdf\" to enhance your understanding of pre-processing techniques. \n",
    "\n",
    "\"AssignmentBostonDataDetails.pdf\" has the problem details. \n",
    "Read the problem n number of times, understanding the problem is the only step required for creating outstanding solutions.\n",
    "\n",
    "All the best!"
   ]
  }
 ],
 "metadata": {
  "kernelspec": {
   "display_name": "Python 3",
   "language": "python",
   "name": "python3"
  },
  "language_info": {
   "codemirror_mode": {
    "name": "ipython",
    "version": 3
   },
   "file_extension": ".py",
   "mimetype": "text/x-python",
   "name": "python",
   "nbconvert_exporter": "python",
   "pygments_lexer": "ipython3",
   "version": "3.6.4"
  }
 },
 "nbformat": 4,
 "nbformat_minor": 2
}
